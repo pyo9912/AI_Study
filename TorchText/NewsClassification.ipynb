{
  "nbformat": 4,
  "nbformat_minor": 0,
  "metadata": {
    "colab": {
      "provenance": [],
      "gpuType": "T4",
      "authorship_tag": "ABX9TyMxx4sOpeL6Wxj1ypyj6mQB",
      "include_colab_link": true
    },
    "kernelspec": {
      "name": "python3",
      "display_name": "Python 3"
    },
    "language_info": {
      "name": "python"
    },
    "accelerator": "GPU"
  },
  "cells": [
    {
      "cell_type": "markdown",
      "metadata": {
        "id": "view-in-github",
        "colab_type": "text"
      },
      "source": [
        "<a href=\"https://colab.research.google.com/github/pyo9912/AI_Study/blob/master/TorchText/NewsClassification.ipynb\" target=\"_parent\"><img src=\"https://colab.research.google.com/assets/colab-badge.svg\" alt=\"Open In Colab\"/></a>"
      ]
    },
    {
      "cell_type": "code",
      "execution_count": null,
      "metadata": {
        "colab": {
          "base_uri": "https://localhost:8080/"
        },
        "id": "DZHaAd7-_A-y",
        "outputId": "40c18935-5b07-44e7-9a74-b8b666f9ccb3"
      },
      "outputs": [
        {
          "output_type": "stream",
          "name": "stdout",
          "text": [
            "Collecting torch==1.12.0\n",
            "  Downloading torch-1.12.0-cp310-cp310-manylinux1_x86_64.whl (776.3 MB)\n",
            "\u001b[2K     \u001b[90m━━━━━━━━━━━━━━━━━━━━━━━━━━━━━━━━━━━━━━━\u001b[0m \u001b[32m776.3/776.3 MB\u001b[0m \u001b[31m2.3 MB/s\u001b[0m eta \u001b[36m0:00:00\u001b[0m\n",
            "\u001b[?25hRequirement already satisfied: typing-extensions in /usr/local/lib/python3.10/dist-packages (from torch==1.12.0) (4.7.1)\n",
            "Installing collected packages: torch\n",
            "  Attempting uninstall: torch\n",
            "    Found existing installation: torch 2.0.1+cu118\n",
            "    Uninstalling torch-2.0.1+cu118:\n",
            "      Successfully uninstalled torch-2.0.1+cu118\n",
            "\u001b[31mERROR: pip's dependency resolver does not currently take into account all the packages that are installed. This behaviour is the source of the following dependency conflicts.\n",
            "torchaudio 2.0.2+cu118 requires torch==2.0.1, but you have torch 1.12.0 which is incompatible.\n",
            "torchdata 0.6.1 requires torch==2.0.1, but you have torch 1.12.0 which is incompatible.\n",
            "torchtext 0.15.2 requires torch==2.0.1, but you have torch 1.12.0 which is incompatible.\n",
            "torchvision 0.15.2+cu118 requires torch==2.0.1, but you have torch 1.12.0 which is incompatible.\u001b[0m\u001b[31m\n",
            "\u001b[0mSuccessfully installed torch-1.12.0\n"
          ]
        }
      ],
      "source": [
        "pip install torch==1.12.0"
      ]
    },
    {
      "cell_type": "code",
      "source": [
        "!pip install folium==0.2.1"
      ],
      "metadata": {
        "colab": {
          "base_uri": "https://localhost:8080/"
        },
        "id": "gdj0QPKDARNc",
        "outputId": "aadde74b-dc02-4884-83c2-b5ec00bc2940"
      },
      "execution_count": null,
      "outputs": [
        {
          "output_type": "stream",
          "name": "stdout",
          "text": [
            "Collecting folium==0.2.1\n",
            "  Downloading folium-0.2.1.tar.gz (69 kB)\n",
            "\u001b[?25l     \u001b[90m━━━━━━━━━━━━━━━━━━━━━━━━━━━━━━━━━━━━━━━━\u001b[0m \u001b[32m0.0/70.0 kB\u001b[0m \u001b[31m?\u001b[0m eta \u001b[36m-:--:--\u001b[0m\r\u001b[2K     \u001b[90m━━━━━━━━━━━━━━━━━━━━━━━━━━━━━━━━━━━━━━━━\u001b[0m \u001b[32m70.0/70.0 kB\u001b[0m \u001b[31m2.0 MB/s\u001b[0m eta \u001b[36m0:00:00\u001b[0m\n",
            "\u001b[?25h  Preparing metadata (setup.py) ... \u001b[?25l\u001b[?25hdone\n",
            "Requirement already satisfied: Jinja2 in /usr/local/lib/python3.10/dist-packages (from folium==0.2.1) (3.1.2)\n",
            "Requirement already satisfied: MarkupSafe>=2.0 in /usr/local/lib/python3.10/dist-packages (from Jinja2->folium==0.2.1) (2.1.3)\n",
            "Building wheels for collected packages: folium\n",
            "  Building wheel for folium (setup.py) ... \u001b[?25l\u001b[?25hdone\n",
            "  Created wheel for folium: filename=folium-0.2.1-py3-none-any.whl size=79793 sha256=537cb88abc2e065306c1b47253e9b7e380e985951ff81a4b56b99270f01c2344\n",
            "  Stored in directory: /root/.cache/pip/wheels/00/0c/07/d7792a5444d5bb074361ac27da53cee9d5cce59a07fe9da5dd\n",
            "Successfully built folium\n",
            "Installing collected packages: folium\n",
            "  Attempting uninstall: folium\n",
            "    Found existing installation: folium 0.14.0\n",
            "    Uninstalling folium-0.14.0:\n",
            "      Successfully uninstalled folium-0.14.0\n",
            "\u001b[31mERROR: pip's dependency resolver does not currently take into account all the packages that are installed. This behaviour is the source of the following dependency conflicts.\n",
            "datascience 0.17.6 requires folium>=0.9.1, but you have folium 0.2.1 which is incompatible.\u001b[0m\u001b[31m\n",
            "\u001b[0mSuccessfully installed folium-0.2.1\n"
          ]
        }
      ]
    },
    {
      "cell_type": "code",
      "source": [
        "!pip install torchdata==0.4.0"
      ],
      "metadata": {
        "colab": {
          "base_uri": "https://localhost:8080/"
        },
        "id": "LpZ0H78kAUFl",
        "outputId": "adc01a95-f638-4ae8-f130-b34da6e1b650"
      },
      "execution_count": null,
      "outputs": [
        {
          "output_type": "stream",
          "name": "stdout",
          "text": [
            "Collecting torchdata==0.4.0\n",
            "  Downloading torchdata-0.4.0-cp310-cp310-manylinux2014_x86_64.whl (4.4 MB)\n",
            "\u001b[2K     \u001b[90m━━━━━━━━━━━━━━━━━━━━━━━━━━━━━━━━━━━━━━━━\u001b[0m \u001b[32m4.4/4.4 MB\u001b[0m \u001b[31m37.4 MB/s\u001b[0m eta \u001b[36m0:00:00\u001b[0m\n",
            "\u001b[?25hRequirement already satisfied: urllib3>=1.25 in /usr/local/lib/python3.10/dist-packages (from torchdata==0.4.0) (1.26.16)\n",
            "Requirement already satisfied: requests in /usr/local/lib/python3.10/dist-packages (from torchdata==0.4.0) (2.31.0)\n",
            "Collecting portalocker>=2.0.0 (from torchdata==0.4.0)\n",
            "  Downloading portalocker-2.7.0-py2.py3-none-any.whl (15 kB)\n",
            "Requirement already satisfied: torch==1.12.0 in /usr/local/lib/python3.10/dist-packages (from torchdata==0.4.0) (1.12.0)\n",
            "Requirement already satisfied: typing-extensions in /usr/local/lib/python3.10/dist-packages (from torch==1.12.0->torchdata==0.4.0) (4.7.1)\n",
            "Requirement already satisfied: charset-normalizer<4,>=2 in /usr/local/lib/python3.10/dist-packages (from requests->torchdata==0.4.0) (3.2.0)\n",
            "Requirement already satisfied: idna<4,>=2.5 in /usr/local/lib/python3.10/dist-packages (from requests->torchdata==0.4.0) (3.4)\n",
            "Requirement already satisfied: certifi>=2017.4.17 in /usr/local/lib/python3.10/dist-packages (from requests->torchdata==0.4.0) (2023.7.22)\n",
            "Installing collected packages: portalocker, torchdata\n",
            "  Attempting uninstall: torchdata\n",
            "    Found existing installation: torchdata 0.6.1\n",
            "    Uninstalling torchdata-0.6.1:\n",
            "      Successfully uninstalled torchdata-0.6.1\n",
            "\u001b[31mERROR: pip's dependency resolver does not currently take into account all the packages that are installed. This behaviour is the source of the following dependency conflicts.\n",
            "torchtext 0.15.2 requires torch==2.0.1, but you have torch 1.12.0 which is incompatible.\n",
            "torchtext 0.15.2 requires torchdata==0.6.1, but you have torchdata 0.4.0 which is incompatible.\u001b[0m\u001b[31m\n",
            "\u001b[0mSuccessfully installed portalocker-2.7.0 torchdata-0.4.0\n"
          ]
        }
      ]
    },
    {
      "cell_type": "code",
      "source": [
        "pip install torchtext==0.13.0"
      ],
      "metadata": {
        "colab": {
          "base_uri": "https://localhost:8080/"
        },
        "id": "6XiDljjMAWil",
        "outputId": "4733de31-be4f-4025-bb41-1440c4777352"
      },
      "execution_count": null,
      "outputs": [
        {
          "output_type": "stream",
          "name": "stdout",
          "text": [
            "Collecting torchtext==0.13.0\n",
            "  Downloading torchtext-0.13.0-cp310-cp310-manylinux1_x86_64.whl (1.9 MB)\n",
            "\u001b[?25l     \u001b[90m━━━━━━━━━━━━━━━━━━━━━━━━━━━━━━━━━━━━━━━━\u001b[0m \u001b[32m0.0/1.9 MB\u001b[0m \u001b[31m?\u001b[0m eta \u001b[36m-:--:--\u001b[0m\r\u001b[2K     \u001b[91m━━━━\u001b[0m\u001b[90m╺\u001b[0m\u001b[90m━━━━━━━━━━━━━━━━━━━━━━━━━━━━━━━━━━━\u001b[0m \u001b[32m0.2/1.9 MB\u001b[0m \u001b[31m5.8 MB/s\u001b[0m eta \u001b[36m0:00:01\u001b[0m\r\u001b[2K     \u001b[90m━━━━━━━━━━━━━━━━━━━━━━━━━━━━━━━━━━━━━━━━\u001b[0m \u001b[32m1.9/1.9 MB\u001b[0m \u001b[31m32.6 MB/s\u001b[0m eta \u001b[36m0:00:00\u001b[0m\n",
            "\u001b[?25hRequirement already satisfied: tqdm in /usr/local/lib/python3.10/dist-packages (from torchtext==0.13.0) (4.65.0)\n",
            "Requirement already satisfied: requests in /usr/local/lib/python3.10/dist-packages (from torchtext==0.13.0) (2.31.0)\n",
            "Requirement already satisfied: torch==1.12.0 in /usr/local/lib/python3.10/dist-packages (from torchtext==0.13.0) (1.12.0)\n",
            "Requirement already satisfied: numpy in /usr/local/lib/python3.10/dist-packages (from torchtext==0.13.0) (1.23.5)\n",
            "Requirement already satisfied: typing-extensions in /usr/local/lib/python3.10/dist-packages (from torch==1.12.0->torchtext==0.13.0) (4.7.1)\n",
            "Requirement already satisfied: charset-normalizer<4,>=2 in /usr/local/lib/python3.10/dist-packages (from requests->torchtext==0.13.0) (3.2.0)\n",
            "Requirement already satisfied: idna<4,>=2.5 in /usr/local/lib/python3.10/dist-packages (from requests->torchtext==0.13.0) (3.4)\n",
            "Requirement already satisfied: urllib3<3,>=1.21.1 in /usr/local/lib/python3.10/dist-packages (from requests->torchtext==0.13.0) (1.26.16)\n",
            "Requirement already satisfied: certifi>=2017.4.17 in /usr/local/lib/python3.10/dist-packages (from requests->torchtext==0.13.0) (2023.7.22)\n",
            "Installing collected packages: torchtext\n",
            "  Attempting uninstall: torchtext\n",
            "    Found existing installation: torchtext 0.15.2\n",
            "    Uninstalling torchtext-0.15.2:\n",
            "      Successfully uninstalled torchtext-0.15.2\n",
            "Successfully installed torchtext-0.13.0\n"
          ]
        }
      ]
    },
    {
      "cell_type": "code",
      "source": [
        "pip install 'portalocker>=2.0.0'"
      ],
      "metadata": {
        "colab": {
          "base_uri": "https://localhost:8080/"
        },
        "id": "qC9jnLo3AaJs",
        "outputId": "8a91abe9-1716-4635-b8d0-8b289a7bdaee"
      },
      "execution_count": null,
      "outputs": [
        {
          "output_type": "stream",
          "name": "stdout",
          "text": [
            "Requirement already satisfied: portalocker>=2.0.0 in /usr/local/lib/python3.10/dist-packages (2.7.0)\n"
          ]
        }
      ]
    },
    {
      "cell_type": "code",
      "source": [
        "import torch\n",
        "from torchtext.datasets import AG_NEWS\n",
        "train_iter = iter(AG_NEWS(split='train'))"
      ],
      "metadata": {
        "id": "cfqJ2o-gAaov"
      },
      "execution_count": null,
      "outputs": []
    },
    {
      "cell_type": "code",
      "source": [
        "next(train_iter)"
      ],
      "metadata": {
        "colab": {
          "base_uri": "https://localhost:8080/"
        },
        "id": "1Vri95gxDeBg",
        "outputId": "df20c08e-b553-43e4-b9f7-d969d0824f7b"
      },
      "execution_count": null,
      "outputs": [
        {
          "output_type": "execute_result",
          "data": {
            "text/plain": [
              "(3,\n",
              " \"Wall St. Bears Claw Back Into the Black (Reuters) Reuters - Short-sellers, Wall Street's dwindling\\\\band of ultra-cynics, are seeing green again.\")"
            ]
          },
          "metadata": {},
          "execution_count": 8
        }
      ]
    },
    {
      "cell_type": "code",
      "source": [
        "next(train_iter)"
      ],
      "metadata": {
        "colab": {
          "base_uri": "https://localhost:8080/"
        },
        "id": "cLQGRZnkDjeR",
        "outputId": "f4645a90-c8b0-4f65-b600-f8c823abd78a"
      },
      "execution_count": null,
      "outputs": [
        {
          "output_type": "execute_result",
          "data": {
            "text/plain": [
              "(3,\n",
              " 'Carlyle Looks Toward Commercial Aerospace (Reuters) Reuters - Private investment firm Carlyle Group,\\\\which has a reputation for making well-timed and occasionally\\\\controversial plays in the defense industry, has quietly placed\\\\its bets on another part of the market.')"
            ]
          },
          "metadata": {},
          "execution_count": 9
        }
      ]
    },
    {
      "cell_type": "code",
      "source": [
        "next(train_iter)"
      ],
      "metadata": {
        "colab": {
          "base_uri": "https://localhost:8080/"
        },
        "id": "deGAmo8ADpL-",
        "outputId": "0039443c-7fbd-45ed-e47a-82963d51db56"
      },
      "execution_count": null,
      "outputs": [
        {
          "output_type": "execute_result",
          "data": {
            "text/plain": [
              "(3,\n",
              " \"Oil and Economy Cloud Stocks' Outlook (Reuters) Reuters - Soaring crude prices plus worries\\\\about the economy and the outlook for earnings are expected to\\\\hang over the stock market next week during the depth of the\\\\summer doldrums.\")"
            ]
          },
          "metadata": {},
          "execution_count": 10
        }
      ]
    },
    {
      "cell_type": "markdown",
      "source": [
        "## 데이터 처리 파이프라인 준비하기\n",
        "- torchtext 라이브러리는 가공되지 않은 텍스트 문장들을 만드는 (yield) 몇 가지 기초 데이터셋 반복자를 제공.\n",
        "- 아래는 tokenizer 및 vocab을 사용한 일반적인 NLP 데이터 처리의 예시.\n",
        "- 첫 번째 단계는 가공되지 않은 train dataset으로 vocab을 만드는 것"
      ],
      "metadata": {
        "id": "HgSvWCKVD9vR"
      }
    },
    {
      "cell_type": "code",
      "source": [
        "from torchtext.data.utils import get_tokenizer\n",
        "from torchtext.vocab import build_vocab_from_iterator\n",
        "\n",
        "tokenizer = get_tokenizer('basic_english')\n",
        "train_iter = AG_NEWS(split='train')\n",
        "\n",
        "def yield_tokens(data_iter):\n",
        "  for _, text in data_iter:\n",
        "    yield tokenizer(text)\n",
        "\n",
        "vocab = build_vocab_from_iterator(yield_tokens(train_iter), specials=[\"<unk>\"])\n",
        "vocab.set_default_index(vocab[\"<unk>\"])"
      ],
      "metadata": {
        "id": "QXQRjKbaDrBo"
      },
      "execution_count": null,
      "outputs": []
    },
    {
      "cell_type": "markdown",
      "source": [
        "Vocabulary block은 토큰을 정수로 변환"
      ],
      "metadata": {
        "id": "yl8PcwQqF9rx"
      }
    },
    {
      "cell_type": "code",
      "source": [
        "vocab(['here','is','an','example'])"
      ],
      "metadata": {
        "colab": {
          "base_uri": "https://localhost:8080/"
        },
        "id": "jS-UXUPQEkij",
        "outputId": "16e13dc9-a8f3-44ed-9db1-a83cacf5aca5"
      },
      "execution_count": null,
      "outputs": [
        {
          "output_type": "execute_result",
          "data": {
            "text/plain": [
              "[475, 21, 30, 5297]"
            ]
          },
          "metadata": {},
          "execution_count": 8
        }
      ]
    },
    {
      "cell_type": "markdown",
      "source": [
        "텍스트 처리 파이프라인을 준비"
      ],
      "metadata": {
        "id": "hm2AKertGNcF"
      }
    },
    {
      "cell_type": "code",
      "source": [
        "text_pipeline = lambda x: vocab(tokenizer(x))\n",
        "label_pipeline = lambda x: int(x) - 1"
      ],
      "metadata": {
        "id": "uo7k8W2PEqRo"
      },
      "execution_count": null,
      "outputs": []
    },
    {
      "cell_type": "code",
      "source": [
        "text_pipeline('here is the an example')"
      ],
      "metadata": {
        "colab": {
          "base_uri": "https://localhost:8080/"
        },
        "id": "GFN9ltY3GICx",
        "outputId": "982f247c-a7fe-4746-a185-839962c136bc"
      },
      "execution_count": null,
      "outputs": [
        {
          "output_type": "execute_result",
          "data": {
            "text/plain": [
              "[475, 21, 2, 30, 5297]"
            ]
          },
          "metadata": {},
          "execution_count": 10
        }
      ]
    },
    {
      "cell_type": "code",
      "source": [
        "label_pipeline(\"10\")"
      ],
      "metadata": {
        "colab": {
          "base_uri": "https://localhost:8080/"
        },
        "id": "hD-AniG_GW7P",
        "outputId": "85ff3911-5d3d-4fe8-e188-5a71ed6ecf67"
      },
      "execution_count": null,
      "outputs": [
        {
          "output_type": "execute_result",
          "data": {
            "text/plain": [
              "9"
            ]
          },
          "metadata": {},
          "execution_count": 11
        }
      ]
    },
    {
      "cell_type": "markdown",
      "source": [
        "## 데이터 배치 (batch)와 iter 생성하기\n"
      ],
      "metadata": {
        "id": "jFSZqOU7GgHo"
      }
    },
    {
      "cell_type": "code",
      "source": [
        "from torch.utils.data import DataLoader\n",
        "device = torch.device(\"cuda\" if torch.cuda.is_available() else \"cpu\")\n",
        "\n",
        "def collate_batch(batch):\n",
        "    label_list, text_list, offsets = [], [], [0]\n",
        "    for (_label, _text) in batch:\n",
        "         label_list.append(label_pipeline(_label))\n",
        "         processed_text = torch.tensor(text_pipeline(_text), dtype=torch.int64)\n",
        "         text_list.append(processed_text)\n",
        "         offsets.append(processed_text.size(0))\n",
        "    label_list = torch.tensor(label_list, dtype=torch.int64)\n",
        "    offsets = torch.tensor(offsets[:-1]).cumsum(dim=0)\n",
        "    text_list = torch.cat(text_list)\n",
        "    return label_list.to(device), text_list.to(device), offsets.to(device)\n",
        "\n",
        "train_iter = AG_NEWS(split='train')\n",
        "dataloader = DataLoader(train_iter, batch_size=8, shuffle=False, collate_fn=collate_batch)"
      ],
      "metadata": {
        "id": "BLqauRpqGZAL"
      },
      "execution_count": null,
      "outputs": []
    },
    {
      "cell_type": "markdown",
      "source": [
        "## 모델 정의하기\n",
        "모델 구성: nn.EmbeddingBag layer + 분류 목적의 linear layer\n",
        "![image.png](data:image/png;base64,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)"
      ],
      "metadata": {
        "id": "pUusFn7iM4xY"
      }
    },
    {
      "cell_type": "code",
      "source": [
        "from torch import nn\n",
        "\n",
        "class TextClassificationModel(nn.Module):\n",
        "\n",
        "    def __init__(self, vocab_size, embed_dim, num_class):\n",
        "        super(TextClassificationModel, self).__init__()\n",
        "        self.embedding = nn.EmbeddingBag(vocab_size, embed_dim, sparse=False)\n",
        "        self.fc = nn.Linear(embed_dim, num_class)\n",
        "        self.init_weights()\n",
        "\n",
        "    def init_weights(self):\n",
        "        initrange = 0.5\n",
        "        self.embedding.weight.data.uniform_(-initrange, initrange)\n",
        "        self.fc.weight.data.uniform_(-initrange, initrange)\n",
        "        self.fc.bias.data.zero_()\n",
        "\n",
        "    def forward(self, text, offsets):\n",
        "        embedded = self.embedding(text, offsets)\n",
        "        return self.fc(embedded)"
      ],
      "metadata": {
        "id": "VilDFWsjLIcH"
      },
      "execution_count": null,
      "outputs": []
    },
    {
      "cell_type": "code",
      "source": [
        "train_iter = AG_NEWS(split='train')\n",
        "num_class = len(set([label for (label, text) in train_iter]))\n",
        "vocab_size = len(vocab)\n",
        "emsize = 64\n",
        "model = TextClassificationModel(vocab_size, emsize, num_class).to(device)"
      ],
      "metadata": {
        "id": "5H0jg_cOOmO6"
      },
      "execution_count": null,
      "outputs": []
    },
    {
      "cell_type": "markdown",
      "source": [
        "## 모델을 학습하고 결과를 평가하는 함수 정의하기"
      ],
      "metadata": {
        "id": "p4wW9L_ePLgY"
      }
    },
    {
      "cell_type": "code",
      "source": [
        "import time\n",
        "\n",
        "def train(dataloader):\n",
        "    model.train()\n",
        "    total_acc, total_count = 0, 0\n",
        "    log_interval = 500\n",
        "    start_time = time.time()\n",
        "    for idx, (label, text, offsets) in enumerate(dataloader):\n",
        "        optimizer.zero_grad()\n",
        "        predicted_label = model(text, offsets)\n",
        "        loss = criterion(predicted_label, label)\n",
        "        loss.backward()\n",
        "        torch.nn.utils.clip_grad_norm_(model.parameters(), 0.1)\n",
        "        optimizer.step()\n",
        "        total_acc += (predicted_label.argmax(1) == label).sum().item()\n",
        "        total_count += label.size(0)\n",
        "        if idx % log_interval == 0 and idx > 0:\n",
        "            elapsed = time.time() - start_time\n",
        "            print('| epoch {:3d} | {:5d}/{:5d} batches '\n",
        "                  '| accuracy {:8.3f}'.format(epoch, idx, len(dataloader),\n",
        "                                              total_acc/total_count))\n",
        "            total_acc, total_count = 0, 0\n",
        "            start_time = time.time()\n",
        "\n",
        "def evaluate(dataloader):\n",
        "  model.eval()\n",
        "  total_acc, total_count = 0, 0\n",
        "\n",
        "  with torch.no_grad():\n",
        "    for idx, (label, text, offsets) in enumerate(dataloader):\n",
        "      predicted_label = model(text, offsets)\n",
        "      loss = criterion(predicted_label, label)\n",
        "      total_acc += (predicted_label.argmax(1) == label).sum().item()\n",
        "      total_count += label.size(0)\n",
        "    return total_acc/total_count"
      ],
      "metadata": {
        "id": "0hZUDzuWPEEe"
      },
      "execution_count": null,
      "outputs": []
    },
    {
      "cell_type": "markdown",
      "source": [
        "## 데이터셋을 분할하고 모델 수행하기"
      ],
      "metadata": {
        "id": "r0xm-5GrQfLr"
      }
    },
    {
      "cell_type": "code",
      "source": [
        "from torch.utils.data.dataset import random_split\n",
        "from torchtext.data.functional import to_map_style_dataset\n",
        "# Hyperparameters\n",
        "EPOCHS = 10\n",
        "LR = 5\n",
        "BATCH_SIZE = 64\n",
        "\n",
        "criterion = torch.nn.CrossEntropyLoss()\n",
        "optimizer = torch.optim.SGD(model.parameters(), lr=LR)\n",
        "scheduler = torch.optim.lr_scheduler.StepLR(optimizer, 1.0, gamma=0.1)\n",
        "total_accu = None\n",
        "train_iter, test_iter = AG_NEWS()\n",
        "train_dataset = to_map_style_dataset(train_iter)\n",
        "test_dataset = to_map_style_dataset(test_iter)\n",
        "num_train = int(len(train_dataset) * 0.95)\n",
        "split_train_, split_valid_ = \\\n",
        "    random_split(train_dataset, [num_train, len(train_dataset) - num_train])\n",
        "\n",
        "train_dataloader = DataLoader(split_train_, batch_size=BATCH_SIZE, shuffle=True, collate_fn=collate_batch)\n",
        "valid_dataloader = DataLoader(split_valid_, batch_size=BATCH_SIZE, shuffle=True, collate_fn=collate_batch)\n",
        "test_dataloader = DataLoader(test_dataset, batch_size=BATCH_SIZE, shuffle=True, collate_fn=collate_batch)\n",
        "\n",
        "for epoch in range(1, EPOCHS + 1):\n",
        "    epoch_start_time = time.time()\n",
        "    train(train_dataloader)\n",
        "    accu_val = evaluate(valid_dataloader)\n",
        "    if total_accu is not None and total_accu > accu_val:\n",
        "      scheduler.step()\n",
        "    else:\n",
        "       total_accu = accu_val\n",
        "    print('-' * 59)\n",
        "    print('| end of epoch {:3d} | time: {:5.2f}s | '\n",
        "          'valid accuracy {:8.3f} '.format(epoch,\n",
        "                                           time.time() - epoch_start_time,\n",
        "                                           accu_val))\n",
        "    print('-' * 59)"
      ],
      "metadata": {
        "colab": {
          "base_uri": "https://localhost:8080/"
        },
        "id": "uCaOBLhmQFK1",
        "outputId": "407b6ee1-288c-4617-a047-fa5c5f178ca7"
      },
      "execution_count": null,
      "outputs": [
        {
          "output_type": "stream",
          "name": "stdout",
          "text": [
            "| epoch   1 |   500/ 1782 batches | accuracy    0.685\n",
            "| epoch   1 |  1000/ 1782 batches | accuracy    0.855\n",
            "| epoch   1 |  1500/ 1782 batches | accuracy    0.876\n",
            "-----------------------------------------------------------\n",
            "| end of epoch   1 | time: 11.03s | valid accuracy    0.874 \n",
            "-----------------------------------------------------------\n",
            "| epoch   2 |   500/ 1782 batches | accuracy    0.898\n",
            "| epoch   2 |  1000/ 1782 batches | accuracy    0.900\n",
            "| epoch   2 |  1500/ 1782 batches | accuracy    0.906\n",
            "-----------------------------------------------------------\n",
            "| end of epoch   2 | time:  9.61s | valid accuracy    0.891 \n",
            "-----------------------------------------------------------\n",
            "| epoch   3 |   500/ 1782 batches | accuracy    0.916\n",
            "| epoch   3 |  1000/ 1782 batches | accuracy    0.915\n",
            "| epoch   3 |  1500/ 1782 batches | accuracy    0.918\n",
            "-----------------------------------------------------------\n",
            "| end of epoch   3 | time: 10.54s | valid accuracy    0.888 \n",
            "-----------------------------------------------------------\n",
            "| epoch   4 |   500/ 1782 batches | accuracy    0.933\n",
            "| epoch   4 |  1000/ 1782 batches | accuracy    0.929\n",
            "| epoch   4 |  1500/ 1782 batches | accuracy    0.930\n",
            "-----------------------------------------------------------\n",
            "| end of epoch   4 | time: 10.44s | valid accuracy    0.898 \n",
            "-----------------------------------------------------------\n",
            "| epoch   5 |   500/ 1782 batches | accuracy    0.931\n",
            "| epoch   5 |  1000/ 1782 batches | accuracy    0.931\n",
            "| epoch   5 |  1500/ 1782 batches | accuracy    0.932\n",
            "-----------------------------------------------------------\n",
            "| end of epoch   5 | time: 10.58s | valid accuracy    0.901 \n",
            "-----------------------------------------------------------\n",
            "| epoch   6 |   500/ 1782 batches | accuracy    0.936\n",
            "| epoch   6 |  1000/ 1782 batches | accuracy    0.932\n",
            "| epoch   6 |  1500/ 1782 batches | accuracy    0.931\n",
            "-----------------------------------------------------------\n",
            "| end of epoch   6 | time:  9.34s | valid accuracy    0.900 \n",
            "-----------------------------------------------------------\n",
            "| epoch   7 |   500/ 1782 batches | accuracy    0.935\n",
            "| epoch   7 |  1000/ 1782 batches | accuracy    0.936\n",
            "| epoch   7 |  1500/ 1782 batches | accuracy    0.934\n",
            "-----------------------------------------------------------\n",
            "| end of epoch   7 | time: 10.82s | valid accuracy    0.901 \n",
            "-----------------------------------------------------------\n",
            "| epoch   8 |   500/ 1782 batches | accuracy    0.932\n",
            "| epoch   8 |  1000/ 1782 batches | accuracy    0.935\n",
            "| epoch   8 |  1500/ 1782 batches | accuracy    0.936\n",
            "-----------------------------------------------------------\n",
            "| end of epoch   8 | time: 10.54s | valid accuracy    0.900 \n",
            "-----------------------------------------------------------\n",
            "| epoch   9 |   500/ 1782 batches | accuracy    0.933\n",
            "| epoch   9 |  1000/ 1782 batches | accuracy    0.938\n",
            "| epoch   9 |  1500/ 1782 batches | accuracy    0.934\n",
            "-----------------------------------------------------------\n",
            "| end of epoch   9 | time: 10.55s | valid accuracy    0.901 \n",
            "-----------------------------------------------------------\n",
            "| epoch  10 |   500/ 1782 batches | accuracy    0.934\n",
            "| epoch  10 |  1000/ 1782 batches | accuracy    0.935\n",
            "| epoch  10 |  1500/ 1782 batches | accuracy    0.937\n",
            "-----------------------------------------------------------\n",
            "| end of epoch  10 | time:  9.40s | valid accuracy    0.901 \n",
            "-----------------------------------------------------------\n"
          ]
        }
      ]
    },
    {
      "cell_type": "code",
      "source": [
        "print('Checking the results of test dataset.')\n",
        "accu_test = evaluate(test_dataloader)\n",
        "print('test accuracy {:8.3f}'.format(accu_test))"
      ],
      "metadata": {
        "colab": {
          "base_uri": "https://localhost:8080/"
        },
        "id": "NfzxCTQ8deas",
        "outputId": "49dcf886-919a-4d38-db33-5740e15f1e3b"
      },
      "execution_count": null,
      "outputs": [
        {
          "output_type": "stream",
          "name": "stdout",
          "text": [
            "Checking the results of test dataset.\n",
            "test accuracy    0.904\n"
          ]
        }
      ]
    },
    {
      "cell_type": "code",
      "source": [
        "ag_news_label = {\n",
        "    1: \"World\",\n",
        "    2: \"Sports\",\n",
        "    3: \"Business\",\n",
        "    4: \"Sci/Tec\"\n",
        "}\n",
        "\n",
        "def predict(text, text_pipeline):\n",
        "  with torch.no_grad():\n",
        "    text = torch.tensor(text_pipeline(text))\n",
        "    output = model(text, torch.tensor([0]))\n",
        "    return output.argmax(1).item() + 1\n",
        "\n",
        "ex_text_str = \"MEMPHIS, Tenn. – Four days ago, Jon Rahm was \\\n",
        "    enduring the season’s worst weather conditions on Sunday at The \\\n",
        "    Open on his way to a closing 75 at Royal Portrush, which \\\n",
        "    considering the wind and the rain was a respectable showing. \\\n",
        "    Thursday’s first round at the WGC-FedEx St. Jude Invitational \\\n",
        "    was another story. With temperatures in the mid-80s and hardly any \\\n",
        "    wind, the Spaniard was 13 strokes better in a flawless round. \\\n",
        "    Thanks to his best putting performance on the PGA Tour, Rahm \\\n",
        "    finished with an 8-under 62 for a three-stroke lead, which \\\n",
        "    was even more impressive considering he’d never played the \\\n",
        "    front nine at TPC Southwind.\"\n",
        "\n",
        "model = model.to(\"cpu\")\n",
        "\n",
        "print(\"This is a %s news\" %ag_news_label[predict(ex_text_str, text_pipeline)])"
      ],
      "metadata": {
        "colab": {
          "base_uri": "https://localhost:8080/"
        },
        "id": "Hz1O99V-drgA",
        "outputId": "9d08e87e-4f38-47e1-9d98-9861c7af219f"
      },
      "execution_count": null,
      "outputs": [
        {
          "output_type": "stream",
          "name": "stdout",
          "text": [
            "This is a Sports news\n"
          ]
        }
      ]
    }
  ]
}